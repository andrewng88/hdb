{
 "cells": [
  {
   "cell_type": "code",
   "execution_count": 4,
   "metadata": {},
   "outputs": [],
   "source": [
    "#os file adminstration\n",
    "from os import listdir,getcwd\n",
    "from os.path import isfile, join\n",
    "\n",
    "import pandas as pd\n",
    "import matplotlib.pyplot as plt\n",
    "import numpy as np\n",
    "np.random.seed(42)"
   ]
  },
  {
   "cell_type": "markdown",
   "metadata": {},
   "source": [
    "# file loading"
   ]
  },
  {
   "cell_type": "code",
   "execution_count": 199,
   "metadata": {},
   "outputs": [
    {
     "name": "stdout",
     "output_type": "stream",
     "text": [
      "['api2_balance_novalues.csv', 'api2_nonull_plus_balanced.csv', 'api2_round1_nonull.csv', 'api2_round1_withnull - Copy.csv', 'api2_round1_withnull.csv', 'balance_done.csv', 'cleaned.csv', 'combine cleaned and gps.ipynb', 'combined.ipynb', 'conversion.csv', 'GPS retrieval.ipynb', 'hdb.zip', 'hdb_done.csv', 'metadata-resale-flat-prices.txt', 'mrt.csv', 'mrt_done.csv', 'null_df10.csv', 'resale-flat-prices-based-on-approval-date-1990-1999.csv', 'resale-flat-prices-based-on-approval-date-2000-feb-2012.csv', 'resale-flat-prices-based-on-registration-date-from-jan-2015-to-dec-2016.csv', 'resale-flat-prices-based-on-registration-date-from-jan-2017-onwards.csv', 'resale-flat-prices-based-on-registration-date-from-mar-2012-to-dec-2014.csv']\n"
     ]
    },
    {
     "data": {
      "text/plain": [
       "['resale-flat-prices-based-on-approval-date-1990-1999.csv',\n",
       " 'resale-flat-prices-based-on-approval-date-2000-feb-2012.csv',\n",
       " 'resale-flat-prices-based-on-registration-date-from-jan-2015-to-dec-2016.csv',\n",
       " 'resale-flat-prices-based-on-registration-date-from-jan-2017-onwards.csv',\n",
       " 'resale-flat-prices-based-on-registration-date-from-mar-2012-to-dec-2014.csv']"
      ]
     },
     "execution_count": 199,
     "metadata": {},
     "output_type": "execute_result"
    }
   ],
   "source": [
    "#obtain directory\n",
    "dirpath = getcwd()\n",
    "#input files in list\n",
    "onlyfiles = [f for f in listdir(dirpath) if isfile(join(dirpath, f))]\n",
    "print(onlyfiles)\n",
    "#subset only required csv files that starts with 'r'\n",
    "csvfiles = [file for file in  onlyfiles if file[0] == 'r' ]\n",
    "csvfiles"
   ]
  },
  {
   "cell_type": "code",
   "execution_count": 200,
   "metadata": {
    "scrolled": true
   },
   "outputs": [],
   "source": [
    "# concat all the files, row wise \n",
    "# drop 'lease_commence_date' as we can calculate that later . \n",
    "# 99years - (current year - lease start)\n",
    "df=pd.DataFrame()\n",
    "for csvfile in csvfiles:\n",
    "    temp = pd.read_csv(csvfile)\n",
    "    try:\n",
    "        temp.drop(columns=['remaining_lease'],inplace=True)\n",
    "    except:\n",
    "        pass\n",
    "    df=pd.concat([df, temp], axis=0,ignore_index=True)"
   ]
  },
  {
   "cell_type": "markdown",
   "metadata": {},
   "source": [
    "## data cleaning"
   ]
  },
  {
   "cell_type": "code",
   "execution_count": 201,
   "metadata": {},
   "outputs": [],
   "source": [
    "#insert a dash in between 'MULTI GENERATION'\n",
    "df.loc[df['flat_type'] == 'MULTI GENERATION', 'flat_type'] = 'MULTI-GENERATION'"
   ]
  },
  {
   "cell_type": "code",
   "execution_count": 202,
   "metadata": {},
   "outputs": [
    {
     "data": {
      "text/plain": [
       "array([ 86,  85,  87,  88,  93,  89,  94,  90,  91,  95,  81,  92,  82,\n",
       "        78,  84,  80,  83,  76,  79,  77,  97,  96,  98,  75, 100,  99,\n",
       "        74,  73,  72, 101,  71,  70,  69,  68,  67,  66,  65,  64,  63,\n",
       "        62,  61,  60,  59,  58,  57,  56,  55,  54,  53,  52,  51,  50,\n",
       "        49,  48,  47,  46], dtype=int64)"
      ]
     },
     "execution_count": 202,
     "metadata": {},
     "output_type": "execute_result"
    }
   ],
   "source": [
    "# convert to datetime \n",
    "df['date']=pd.to_datetime(df['month'])\n",
    "# extract year and month from 'date'\n",
    "df['year_sold']=df['date'].dt.year\n",
    "df['month_sold']=df['date'].dt.month\n",
    "df['remaining_lease'] = df['lease_commence_date'] + 99 - df['year_sold']\n",
    "df.remaining_lease.unique()"
   ]
  },
  {
   "cell_type": "code",
   "execution_count": 203,
   "metadata": {},
   "outputs": [
    {
     "data": {
      "text/plain": [
       "0            1 ROOM\n",
       "1            1 ROOM\n",
       "2            1 ROOM\n",
       "3            1 ROOM\n",
       "4            3 ROOM\n",
       "            ...    \n",
       "810790       5 ROOM\n",
       "810791    EXECUTIVE\n",
       "810792    EXECUTIVE\n",
       "810793    EXECUTIVE\n",
       "810794    EXECUTIVE\n",
       "Name: flat_type, Length: 810795, dtype: object"
      ]
     },
     "execution_count": 203,
     "metadata": {},
     "output_type": "execute_result"
    }
   ],
   "source": [
    "df['flat_type']"
   ]
  },
  {
   "cell_type": "code",
   "execution_count": 204,
   "metadata": {},
   "outputs": [
    {
     "data": {
      "text/plain": [
       "array(['IMPROVED', 'NEW GENERATION', 'MODEL A', 'STANDARD', 'SIMPLIFIED',\n",
       "       'MODEL A-MAISONETTE', 'APARTMENT', 'MAISONETTE', 'TERRACE',\n",
       "       '2-ROOM', 'IMPROVED-MAISONETTE', 'MULTI GENERATION',\n",
       "       'PREMIUM APARTMENT', 'Improved', 'New Generation', 'Model A',\n",
       "       'Standard', 'Apartment', 'Simplified', 'Model A-Maisonette',\n",
       "       'Maisonette', 'Multi Generation', 'Adjoined flat',\n",
       "       'Premium Apartment', 'Terrace', 'Improved-Maisonette',\n",
       "       'Premium Maisonette', '2-room', 'Model A2', 'Type S1', 'Type S2',\n",
       "       'DBSS', 'Premium Apartment Loft'], dtype=object)"
      ]
     },
     "execution_count": 204,
     "metadata": {},
     "output_type": "execute_result"
    }
   ],
   "source": [
    "df.flat_model.unique()"
   ]
  },
  {
   "cell_type": "code",
   "execution_count": 205,
   "metadata": {},
   "outputs": [
    {
     "data": {
      "text/plain": [
       "array(['1 ROOM', '3 ROOM', '4 ROOM', '5 ROOM', '2 ROOM', 'EXECUTIVE',\n",
       "       'MULTI-GENERATION'], dtype=object)"
      ]
     },
     "execution_count": 205,
     "metadata": {},
     "output_type": "execute_result"
    }
   ],
   "source": [
    "df.flat_type.unique()"
   ]
  },
  {
   "cell_type": "code",
   "execution_count": 206,
   "metadata": {},
   "outputs": [
    {
     "data": {
      "text/plain": [
       "0          31.0\n",
       "1          31.0\n",
       "2          31.0\n",
       "3          31.0\n",
       "4          73.0\n",
       "          ...  \n",
       "810790    122.0\n",
       "810791    146.0\n",
       "810792    164.0\n",
       "810793    152.0\n",
       "810794    146.0\n",
       "Name: floor_area_sqm, Length: 810795, dtype: float64"
      ]
     },
     "execution_count": 206,
     "metadata": {},
     "output_type": "execute_result"
    }
   ],
   "source": [
    "df.floor_area_sqm"
   ]
  },
  {
   "cell_type": "code",
   "execution_count": 207,
   "metadata": {},
   "outputs": [],
   "source": [
    "#change all to lower as there are mixtures of upper and lower\n",
    "df['flat_model'] = df['flat_model'].str.lower()"
   ]
  },
  {
   "cell_type": "code",
   "execution_count": 208,
   "metadata": {},
   "outputs": [
    {
     "data": {
      "text/plain": [
       "0         11.0\n",
       "1          5.0\n",
       "2         11.0\n",
       "3          8.0\n",
       "4          5.0\n",
       "          ... \n",
       "810790    11.0\n",
       "810791    11.0\n",
       "810792     8.0\n",
       "810793     8.0\n",
       "810794     5.0\n",
       "Name: storey_range, Length: 810795, dtype: float64"
      ]
     },
     "execution_count": 208,
     "metadata": {},
     "output_type": "execute_result"
    }
   ],
   "source": [
    "#convert storey_range to mean ( example '10 TO 12' convert to 11)\n",
    "df['storey_range'].str.split(' ').apply(lambda x: (int(x[0]) + int(x[2]))/2)"
   ]
  },
  {
   "cell_type": "code",
   "execution_count": 209,
   "metadata": {},
   "outputs": [],
   "source": [
    "#write to csv for streamlit\n",
    "df.to_csv('cleaned.csv',index=False)"
   ]
  },
  {
   "cell_type": "markdown",
   "metadata": {},
   "source": [
    "## Feature engineering GPS"
   ]
  },
  {
   "cell_type": "code",
   "execution_count": 13,
   "metadata": {},
   "outputs": [],
   "source": [
    "from geopy import Nominatim\n",
    "from geopy.extra.rate_limiter import RateLimiter"
   ]
  },
  {
   "cell_type": "markdown",
   "metadata": {},
   "source": [
    "## Method 1 : Use GeoPy library"
   ]
  },
  {
   "cell_type": "code",
   "execution_count": 14,
   "metadata": {},
   "outputs": [
    {
     "name": "stdout",
     "output_type": "stream",
     "text": [
      "Raffles Place MRT Exit G, Chulia Street, Downtown Core, Singapore, Central, 048616, Singapore\n"
     ]
    }
   ],
   "source": [
    "add_list1 = [\"raffles place mrt\"]\n",
    "latitude_list = []\n",
    "longitude_list = []\n",
    "for i in add_list1:\n",
    "    geolocator = Nominatim(user_agent=\"myGeocoder\")\n",
    "    # convenient function to delay between geocoding calls\n",
    "    # delay to prevent drop outs\n",
    "    try:\n",
    "        location = geolocator.geocode(i,timeout=5)\n",
    "        latitude_list.append(location.latitude)\n",
    "        longitude_list.append(location.longitude)\n",
    "    except:\n",
    "        latitude_list.append(None)\n",
    "        longitude_list.append(None)\n",
    "print(location)"
   ]
  },
  {
   "cell_type": "markdown",
   "metadata": {},
   "source": [
    "## Method 2 : Using OneMap API"
   ]
  },
  {
   "cell_type": "code",
   "execution_count": 15,
   "metadata": {
    "scrolled": false
   },
   "outputs": [
    {
     "data": {
      "text/plain": [
       "{'found': 17,\n",
       " 'totalNumPages': 2,\n",
       " 'pageNum': 1,\n",
       " 'results': [{'SEARCHVAL': 'RAFFLES PLACE MRT STATION EXIT D',\n",
       "   'BLK_NO': '',\n",
       "   'ROAD_NAME': 'NIL',\n",
       "   'BUILDING': 'RAFFLES PLACE MRT STATION EXIT D',\n",
       "   'ADDRESS': 'RAFFLES PLACE MRT STATION EXIT D',\n",
       "   'POSTAL': '00',\n",
       "   'X': '30007.10602',\n",
       "   'Y': '29564.07004',\n",
       "   'LATITUDE': '1.283641391',\n",
       "   'LONGITUDE': '103.8513532',\n",
       "   'LONGTITUDE': '103.8513532'},\n",
       "  {'SEARCHVAL': 'RAFFLES PLACE MRT STATION EXIT E',\n",
       "   'BLK_NO': '',\n",
       "   'ROAD_NAME': 'NIL',\n",
       "   'BUILDING': 'RAFFLES PLACE MRT STATION EXIT E',\n",
       "   'ADDRESS': 'RAFFLES PLACE MRT STATION EXIT E',\n",
       "   'POSTAL': '00',\n",
       "   'X': '30025.95705',\n",
       "   'Y': '29516.54412',\n",
       "   'LATITUDE': '1.283211582',\n",
       "   'LONGITUDE': '103.8515226',\n",
       "   'LONGTITUDE': '103.8515226'},\n",
       "  {'SEARCHVAL': 'RAFFLES PLACE MRT STATION EXIT J',\n",
       "   'BLK_NO': '',\n",
       "   'ROAD_NAME': 'NIL',\n",
       "   'BUILDING': 'RAFFLES PLACE MRT STATION EXIT J',\n",
       "   'ADDRESS': 'RAFFLES PLACE MRT STATION EXIT J',\n",
       "   'POSTAL': '00',\n",
       "   'X': '30000.37445',\n",
       "   'Y': '29453.42687',\n",
       "   'LATITUDE': '1.282640774',\n",
       "   'LONGITUDE': '103.8512927',\n",
       "   'LONGTITUDE': '103.8512927'},\n",
       "  {'SEARCHVAL': 'RAFFLES PLACE MRT STATION EXIT F',\n",
       "   'BLK_NO': '',\n",
       "   'ROAD_NAME': 'NIL',\n",
       "   'BUILDING': 'RAFFLES PLACE MRT STATION EXIT F',\n",
       "   'ADDRESS': 'RAFFLES PLACE MRT STATION EXIT F',\n",
       "   'POSTAL': '00',\n",
       "   'X': '29962.63037',\n",
       "   'Y': '29442.473280000002',\n",
       "   'LATITUDE': '1.2825417159999999',\n",
       "   'LONGITUDE': '103.8509536',\n",
       "   'LONGTITUDE': '103.8509536'},\n",
       "  {'SEARCHVAL': 'RAFFLES PLACE MRT STATION EXIT B',\n",
       "   'BLK_NO': '',\n",
       "   'ROAD_NAME': 'NIL',\n",
       "   'BUILDING': 'RAFFLES PLACE MRT STATION EXIT B',\n",
       "   'ADDRESS': 'RAFFLES PLACE MRT STATION EXIT B',\n",
       "   'POSTAL': '00',\n",
       "   'X': '30021.21296',\n",
       "   'Y': '29670.828269999998',\n",
       "   'LATITUDE': '1.284606874',\n",
       "   'LONGITUDE': '103.85148000000001',\n",
       "   'LONGTITUDE': '103.85148000000001'},\n",
       "  {'SEARCHVAL': 'RAFFLES PLACE MRT STATION EXIT I',\n",
       "   'BLK_NO': '',\n",
       "   'ROAD_NAME': 'NIL',\n",
       "   'BUILDING': 'RAFFLES PLACE MRT STATION EXIT I',\n",
       "   'ADDRESS': 'RAFFLES PLACE MRT STATION EXIT I',\n",
       "   'POSTAL': '00',\n",
       "   'X': '30016.28406',\n",
       "   'Y': '29423.85315',\n",
       "   'LATITUDE': '1.2823733179999999',\n",
       "   'LONGITUDE': '103.85143570000001',\n",
       "   'LONGTITUDE': '103.85143570000001'},\n",
       "  {'SEARCHVAL': 'RAFFLES PLACE MRT STATION EXIT G',\n",
       "   'BLK_NO': '',\n",
       "   'ROAD_NAME': 'NIL',\n",
       "   'BUILDING': 'RAFFLES PLACE MRT STATION EXIT G',\n",
       "   'ADDRESS': 'RAFFLES PLACE MRT STATION EXIT G',\n",
       "   'POSTAL': '00',\n",
       "   'X': '30021.122460000002',\n",
       "   'Y': '29716.328039999997',\n",
       "   'LATITUDE': '1.2850183579999999',\n",
       "   'LONGITUDE': '103.8514792',\n",
       "   'LONGTITUDE': '103.8514792'},\n",
       "  {'SEARCHVAL': 'RAFFLES PLACE MRT STATION EXIT A',\n",
       "   'BLK_NO': '',\n",
       "   'ROAD_NAME': 'NIL',\n",
       "   'BUILDING': 'RAFFLES PLACE MRT STATION EXIT A',\n",
       "   'ADDRESS': 'RAFFLES PLACE MRT STATION EXIT A',\n",
       "   'POSTAL': '00',\n",
       "   'X': '30016.58093',\n",
       "   'Y': '29617.56143',\n",
       "   'LATITUDE': '1.284125148',\n",
       "   'LONGITUDE': '103.8514384',\n",
       "   'LONGTITUDE': '103.8514384'},\n",
       "  {'SEARCHVAL': 'RAFFLES PLACE MRT STATION EXIT C',\n",
       "   'BLK_NO': '',\n",
       "   'ROAD_NAME': 'NIL',\n",
       "   'BUILDING': 'RAFFLES PLACE MRT STATION EXIT C',\n",
       "   'ADDRESS': 'RAFFLES PLACE MRT STATION EXIT C',\n",
       "   'POSTAL': '00',\n",
       "   'X': '30033.460989999996',\n",
       "   'Y': '29563.719139999997',\n",
       "   'LATITUDE': '1.283638216',\n",
       "   'LONGITUDE': '103.85159',\n",
       "   'LONGTITUDE': '103.85159'},\n",
       "  {'SEARCHVAL': 'RAFFLES PLACE MRT STATION EXIT H',\n",
       "   'BLK_NO': '',\n",
       "   'ROAD_NAME': 'NIL',\n",
       "   'BUILDING': 'RAFFLES PLACE MRT STATION EXIT H',\n",
       "   'ADDRESS': 'RAFFLES PLACE MRT STATION EXIT H',\n",
       "   'POSTAL': '00',\n",
       "   'X': '30036.42617',\n",
       "   'Y': '29743.662819999998',\n",
       "   'LATITUDE': '1.285265563',\n",
       "   'LONGITUDE': '103.85161670000001',\n",
       "   'LONGTITUDE': '103.85161670000001'}]}"
      ]
     },
     "execution_count": 15,
     "metadata": {},
     "output_type": "execute_result"
    }
   ],
   "source": [
    "import json\n",
    "import requests\n",
    "add = \"raffles place mrt\"\n",
    "url= \"https://developers.onemap.sg/commonapi/search?returnGeom=Y&getAddrDetails=Y&pageNum=1&searchVal=\"+add\n",
    "response = requests.get(url)\n",
    "data = json.loads(response.text) \n",
    "data"
   ]
  },
  {
   "cell_type": "markdown",
   "metadata": {},
   "source": [
    "Based on our trials, we will be using primarily OneMAP API as it's faster and presumely should be more accurate with respect to GeoPY. Should there be any issue with the scraping with OneMAP API, the fallback is to use GeoPY and manual method if the remaining query is insignificant"
   ]
  },
  {
   "cell_type": "markdown",
   "metadata": {},
   "source": [
    "## Scraping MRT using OneMap"
   ]
  },
  {
   "cell_type": "markdown",
   "metadata": {},
   "source": [
    "https://en.wikipedia.org/wiki/List_of_Singapore_MRT_stations\n"
   ]
  },
  {
   "cell_type": "code",
   "execution_count": 16,
   "metadata": {},
   "outputs": [
    {
     "data": {
      "text/html": [
       "<div>\n",
       "<style scoped>\n",
       "    .dataframe tbody tr th:only-of-type {\n",
       "        vertical-align: middle;\n",
       "    }\n",
       "\n",
       "    .dataframe tbody tr th {\n",
       "        vertical-align: top;\n",
       "    }\n",
       "\n",
       "    .dataframe thead th {\n",
       "        text-align: right;\n",
       "    }\n",
       "</style>\n",
       "<table border=\"1\" class=\"dataframe\">\n",
       "  <thead>\n",
       "    <tr style=\"text-align: right;\">\n",
       "      <th></th>\n",
       "      <th>MRT</th>\n",
       "    </tr>\n",
       "  </thead>\n",
       "  <tbody>\n",
       "    <tr>\n",
       "      <th>0</th>\n",
       "      <td>jurong east mrt</td>\n",
       "    </tr>\n",
       "    <tr>\n",
       "      <th>1</th>\n",
       "      <td>bukit batok mrt</td>\n",
       "    </tr>\n",
       "    <tr>\n",
       "      <th>2</th>\n",
       "      <td>bukit gombak mrt</td>\n",
       "    </tr>\n",
       "    <tr>\n",
       "      <th>3</th>\n",
       "      <td>choa chu kang mrt</td>\n",
       "    </tr>\n",
       "    <tr>\n",
       "      <th>4</th>\n",
       "      <td>yew tee mrt</td>\n",
       "    </tr>\n",
       "  </tbody>\n",
       "</table>\n",
       "</div>"
      ],
      "text/plain": [
       "                 MRT\n",
       "0    jurong east mrt\n",
       "1    bukit batok mrt\n",
       "2   bukit gombak mrt\n",
       "3  choa chu kang mrt\n",
       "4        yew tee mrt"
      ]
     },
     "execution_count": 16,
     "metadata": {},
     "output_type": "execute_result"
    }
   ],
   "source": [
    "# we convert mrt names to a csv file\n",
    "df_mrt = pd.read_csv('mrt.csv')\n",
    "df_mrt.head()"
   ]
  },
  {
   "cell_type": "code",
   "execution_count": 17,
   "metadata": {},
   "outputs": [
    {
     "data": {
      "text/plain": [
       "(121, 1)"
      ]
     },
     "execution_count": 17,
     "metadata": {},
     "output_type": "execute_result"
    }
   ],
   "source": [
    "df_mrt.shape"
   ]
  },
  {
   "cell_type": "code",
   "execution_count": 18,
   "metadata": {},
   "outputs": [],
   "source": [
    "import json\n",
    "import requests\n",
    "\n",
    "def get_gps(df,col):\n",
    "    '''\n",
    "    This function will obtain the latitude and longitude using oneMAP api\n",
    "    \n",
    "    Keyword arguments:\n",
    "    df : df name\n",
    "    col : name of the column to retrieve\n",
    "    '''\n",
    "    locations = list(df[col])\n",
    "    latitude_list = []\n",
    "    longitude_list = []\n",
    "    for location in locations:\n",
    "        url= \"https://developers.onemap.sg/commonapi/search?returnGeom=Y&getAddrDetails=Y&pageNum=1&searchVal=\"+location\n",
    "        response = requests.get(url)\n",
    "        data = json.loads(response.text) \n",
    "        try:\n",
    "            latitude_list.append(data['results'][0]['LATITUDE'])\n",
    "            longitude_list.append(data['results'][0]['LONGITUDE'])\n",
    "          \n",
    "        except:\n",
    "            latitude_list.append(None)\n",
    "            longitude_list.append(None)\n",
    "    \n",
    "    df[\"latitude\"] = latitude_list\n",
    "    df[\"longitude\"] = longitude_list\n",
    "    \n",
    "    return df"
   ]
  },
  {
   "cell_type": "code",
   "execution_count": null,
   "metadata": {},
   "outputs": [],
   "source": [
    "# obtain MRT GPS\n",
    "df_mrt = get_gps(df_mrt,'MRT')\n",
    "df_mrt.head()\n",
    "df_mrt.to_csv('mrt_done.csv',index=False)"
   ]
  },
  {
   "cell_type": "markdown",
   "metadata": {},
   "source": [
    "## Scraping HDB address using OneMap"
   ]
  },
  {
   "cell_type": "code",
   "execution_count": 214,
   "metadata": {},
   "outputs": [
    {
     "data": {
      "text/html": [
       "<div>\n",
       "<style scoped>\n",
       "    .dataframe tbody tr th:only-of-type {\n",
       "        vertical-align: middle;\n",
       "    }\n",
       "\n",
       "    .dataframe tbody tr th {\n",
       "        vertical-align: top;\n",
       "    }\n",
       "\n",
       "    .dataframe thead th {\n",
       "        text-align: right;\n",
       "    }\n",
       "</style>\n",
       "<table border=\"1\" class=\"dataframe\">\n",
       "  <thead>\n",
       "    <tr style=\"text-align: right;\">\n",
       "      <th></th>\n",
       "      <th>month</th>\n",
       "      <th>town</th>\n",
       "      <th>flat_type</th>\n",
       "      <th>block</th>\n",
       "      <th>street_name</th>\n",
       "      <th>storey_range</th>\n",
       "      <th>floor_area_sqm</th>\n",
       "      <th>flat_model</th>\n",
       "      <th>lease_commence_date</th>\n",
       "      <th>resale_price</th>\n",
       "      <th>date</th>\n",
       "      <th>year_sold</th>\n",
       "      <th>month_sold</th>\n",
       "      <th>remaining_lease</th>\n",
       "      <th>address</th>\n",
       "    </tr>\n",
       "  </thead>\n",
       "  <tbody>\n",
       "    <tr>\n",
       "      <th>0</th>\n",
       "      <td>1990-01</td>\n",
       "      <td>ANG MO KIO</td>\n",
       "      <td>1 ROOM</td>\n",
       "      <td>309</td>\n",
       "      <td>ANG MO KIO AVE 1</td>\n",
       "      <td>10 TO 12</td>\n",
       "      <td>31.0</td>\n",
       "      <td>improved</td>\n",
       "      <td>1977</td>\n",
       "      <td>9000.0</td>\n",
       "      <td>1990-01-01</td>\n",
       "      <td>1990</td>\n",
       "      <td>1</td>\n",
       "      <td>86</td>\n",
       "      <td>309 ang mo kio ave 1</td>\n",
       "    </tr>\n",
       "    <tr>\n",
       "      <th>1</th>\n",
       "      <td>1990-01</td>\n",
       "      <td>ANG MO KIO</td>\n",
       "      <td>1 ROOM</td>\n",
       "      <td>309</td>\n",
       "      <td>ANG MO KIO AVE 1</td>\n",
       "      <td>04 TO 06</td>\n",
       "      <td>31.0</td>\n",
       "      <td>improved</td>\n",
       "      <td>1977</td>\n",
       "      <td>6000.0</td>\n",
       "      <td>1990-01-01</td>\n",
       "      <td>1990</td>\n",
       "      <td>1</td>\n",
       "      <td>86</td>\n",
       "      <td>309 ang mo kio ave 1</td>\n",
       "    </tr>\n",
       "    <tr>\n",
       "      <th>2</th>\n",
       "      <td>1990-01</td>\n",
       "      <td>ANG MO KIO</td>\n",
       "      <td>1 ROOM</td>\n",
       "      <td>309</td>\n",
       "      <td>ANG MO KIO AVE 1</td>\n",
       "      <td>10 TO 12</td>\n",
       "      <td>31.0</td>\n",
       "      <td>improved</td>\n",
       "      <td>1977</td>\n",
       "      <td>8000.0</td>\n",
       "      <td>1990-01-01</td>\n",
       "      <td>1990</td>\n",
       "      <td>1</td>\n",
       "      <td>86</td>\n",
       "      <td>309 ang mo kio ave 1</td>\n",
       "    </tr>\n",
       "    <tr>\n",
       "      <th>3</th>\n",
       "      <td>1990-01</td>\n",
       "      <td>ANG MO KIO</td>\n",
       "      <td>1 ROOM</td>\n",
       "      <td>309</td>\n",
       "      <td>ANG MO KIO AVE 1</td>\n",
       "      <td>07 TO 09</td>\n",
       "      <td>31.0</td>\n",
       "      <td>improved</td>\n",
       "      <td>1977</td>\n",
       "      <td>6000.0</td>\n",
       "      <td>1990-01-01</td>\n",
       "      <td>1990</td>\n",
       "      <td>1</td>\n",
       "      <td>86</td>\n",
       "      <td>309 ang mo kio ave 1</td>\n",
       "    </tr>\n",
       "    <tr>\n",
       "      <th>4</th>\n",
       "      <td>1990-01</td>\n",
       "      <td>ANG MO KIO</td>\n",
       "      <td>3 ROOM</td>\n",
       "      <td>216</td>\n",
       "      <td>ANG MO KIO AVE 1</td>\n",
       "      <td>04 TO 06</td>\n",
       "      <td>73.0</td>\n",
       "      <td>new generation</td>\n",
       "      <td>1976</td>\n",
       "      <td>47200.0</td>\n",
       "      <td>1990-01-01</td>\n",
       "      <td>1990</td>\n",
       "      <td>1</td>\n",
       "      <td>85</td>\n",
       "      <td>216 ang mo kio ave 1</td>\n",
       "    </tr>\n",
       "  </tbody>\n",
       "</table>\n",
       "</div>"
      ],
      "text/plain": [
       "     month        town flat_type block       street_name storey_range  \\\n",
       "0  1990-01  ANG MO KIO    1 ROOM   309  ANG MO KIO AVE 1     10 TO 12   \n",
       "1  1990-01  ANG MO KIO    1 ROOM   309  ANG MO KIO AVE 1     04 TO 06   \n",
       "2  1990-01  ANG MO KIO    1 ROOM   309  ANG MO KIO AVE 1     10 TO 12   \n",
       "3  1990-01  ANG MO KIO    1 ROOM   309  ANG MO KIO AVE 1     07 TO 09   \n",
       "4  1990-01  ANG MO KIO    3 ROOM   216  ANG MO KIO AVE 1     04 TO 06   \n",
       "\n",
       "   floor_area_sqm      flat_model  lease_commence_date  resale_price  \\\n",
       "0            31.0        improved                 1977        9000.0   \n",
       "1            31.0        improved                 1977        6000.0   \n",
       "2            31.0        improved                 1977        8000.0   \n",
       "3            31.0        improved                 1977        6000.0   \n",
       "4            73.0  new generation                 1976       47200.0   \n",
       "\n",
       "        date  year_sold  month_sold  remaining_lease               address  \n",
       "0 1990-01-01       1990           1               86  309 ang mo kio ave 1  \n",
       "1 1990-01-01       1990           1               86  309 ang mo kio ave 1  \n",
       "2 1990-01-01       1990           1               86  309 ang mo kio ave 1  \n",
       "3 1990-01-01       1990           1               86  309 ang mo kio ave 1  \n",
       "4 1990-01-01       1990           1               85  216 ang mo kio ave 1  "
      ]
     },
     "execution_count": 214,
     "metadata": {},
     "output_type": "execute_result"
    }
   ],
   "source": [
    "#combine block and street name so that it can be inputted to the API\n",
    "df['address'] = df['block'].map(str) + \" \" + df['street_name']\n",
    "df[\"address\"]=df[\"address\"].str.lower()\n",
    "df.head()"
   ]
  },
  {
   "cell_type": "markdown",
   "metadata": {},
   "source": [
    "since unique values are only over 9000 vs 810,795 for the whole df,\n",
    "we will scrape the former and merge back to the original df"
   ]
  },
  {
   "cell_type": "code",
   "execution_count": 24,
   "metadata": {},
   "outputs": [
    {
     "name": "stdout",
     "output_type": "stream",
     "text": [
      "810795\n",
      "9143\n"
     ]
    }
   ],
   "source": [
    "print(df.shape[0])\n",
    "print(len(df.address.unique()))"
   ]
  },
  {
   "cell_type": "code",
   "execution_count": 23,
   "metadata": {},
   "outputs": [],
   "source": [
    "#obtain GPS for the unique values using OneMAP API\n",
    "df_unique_address = pd.DataFrame(data =df.address.unique(), columns = ['address'] )\n",
    "df_unique_address = get_gps(df_unique_address,'address')"
   ]
  },
  {
   "cell_type": "code",
   "execution_count": 25,
   "metadata": {},
   "outputs": [],
   "source": [
    "#backup this file as we do not want to re-run the scraping again\n",
    "df_unique_address.to_csv('data/unique_address.csv',index=False)"
   ]
  },
  {
   "cell_type": "markdown",
   "metadata": {},
   "source": [
    "## Use GeoPY to obtain the rest of the locations"
   ]
  },
  {
   "cell_type": "code",
   "execution_count": 76,
   "metadata": {},
   "outputs": [
    {
     "data": {
      "text/plain": [
       "134"
      ]
     },
     "execution_count": 76,
     "metadata": {},
     "output_type": "execute_result"
    }
   ],
   "source": [
    "#134 rows that we are not able to obtain GPS\n",
    "df_unique_address['latitude'].isnull().sum()"
   ]
  },
  {
   "cell_type": "code",
   "execution_count": 77,
   "metadata": {},
   "outputs": [
    {
     "data": {
      "text/html": [
       "<div>\n",
       "<style scoped>\n",
       "    .dataframe tbody tr th:only-of-type {\n",
       "        vertical-align: middle;\n",
       "    }\n",
       "\n",
       "    .dataframe tbody tr th {\n",
       "        vertical-align: top;\n",
       "    }\n",
       "\n",
       "    .dataframe thead th {\n",
       "        text-align: right;\n",
       "    }\n",
       "</style>\n",
       "<table border=\"1\" class=\"dataframe\">\n",
       "  <thead>\n",
       "    <tr style=\"text-align: right;\">\n",
       "      <th></th>\n",
       "      <th>address</th>\n",
       "      <th>latitude</th>\n",
       "      <th>longitude</th>\n",
       "    </tr>\n",
       "  </thead>\n",
       "  <tbody>\n",
       "    <tr>\n",
       "      <th>0</th>\n",
       "      <td>309 ang mo kio ave 1</td>\n",
       "      <td>None</td>\n",
       "      <td>None</td>\n",
       "    </tr>\n",
       "    <tr>\n",
       "      <th>9</th>\n",
       "      <td>247 ang mo kio ave 3</td>\n",
       "      <td>None</td>\n",
       "      <td>None</td>\n",
       "    </tr>\n",
       "    <tr>\n",
       "      <th>11</th>\n",
       "      <td>252 ang mo kio ave 4</td>\n",
       "      <td>None</td>\n",
       "      <td>None</td>\n",
       "    </tr>\n",
       "    <tr>\n",
       "      <th>48</th>\n",
       "      <td>455 ang mo kio ave 10</td>\n",
       "      <td>None</td>\n",
       "      <td>None</td>\n",
       "    </tr>\n",
       "    <tr>\n",
       "      <th>262</th>\n",
       "      <td>4 hillview ave</td>\n",
       "      <td>None</td>\n",
       "      <td>None</td>\n",
       "    </tr>\n",
       "  </tbody>\n",
       "</table>\n",
       "</div>"
      ],
      "text/plain": [
       "                   address latitude longitude\n",
       "0     309 ang mo kio ave 1     None      None\n",
       "9     247 ang mo kio ave 3     None      None\n",
       "11    252 ang mo kio ave 4     None      None\n",
       "48   455 ang mo kio ave 10     None      None\n",
       "262         4 hillview ave     None      None"
      ]
     },
     "execution_count": 77,
     "metadata": {},
     "output_type": "execute_result"
    }
   ],
   "source": [
    "df_balance_null = df_unique_address.loc[df_unique_address['latitude'].isnull(),:]\n",
    "df_unique_address.loc[df_unique_address['latitude'].isnull(),:].head()"
   ]
  },
  {
   "cell_type": "code",
   "execution_count": 79,
   "metadata": {},
   "outputs": [
    {
     "data": {
      "text/html": [
       "<div>\n",
       "<style scoped>\n",
       "    .dataframe tbody tr th:only-of-type {\n",
       "        vertical-align: middle;\n",
       "    }\n",
       "\n",
       "    .dataframe tbody tr th {\n",
       "        vertical-align: top;\n",
       "    }\n",
       "\n",
       "    .dataframe thead th {\n",
       "        text-align: right;\n",
       "    }\n",
       "</style>\n",
       "<table border=\"1\" class=\"dataframe\">\n",
       "  <thead>\n",
       "    <tr style=\"text-align: right;\">\n",
       "      <th></th>\n",
       "      <th>0</th>\n",
       "      <th>1</th>\n",
       "      <th>2</th>\n",
       "      <th>3</th>\n",
       "      <th>4</th>\n",
       "      <th>5</th>\n",
       "    </tr>\n",
       "  </thead>\n",
       "  <tbody>\n",
       "    <tr>\n",
       "      <th>0</th>\n",
       "      <td>309</td>\n",
       "      <td>ang</td>\n",
       "      <td>mo</td>\n",
       "      <td>kio</td>\n",
       "      <td>ave</td>\n",
       "      <td>1</td>\n",
       "    </tr>\n",
       "    <tr>\n",
       "      <th>9</th>\n",
       "      <td>247</td>\n",
       "      <td>ang</td>\n",
       "      <td>mo</td>\n",
       "      <td>kio</td>\n",
       "      <td>ave</td>\n",
       "      <td>3</td>\n",
       "    </tr>\n",
       "    <tr>\n",
       "      <th>11</th>\n",
       "      <td>252</td>\n",
       "      <td>ang</td>\n",
       "      <td>mo</td>\n",
       "      <td>kio</td>\n",
       "      <td>ave</td>\n",
       "      <td>4</td>\n",
       "    </tr>\n",
       "    <tr>\n",
       "      <th>48</th>\n",
       "      <td>455</td>\n",
       "      <td>ang</td>\n",
       "      <td>mo</td>\n",
       "      <td>kio</td>\n",
       "      <td>ave</td>\n",
       "      <td>10</td>\n",
       "    </tr>\n",
       "    <tr>\n",
       "      <th>262</th>\n",
       "      <td>4</td>\n",
       "      <td>hillview</td>\n",
       "      <td>ave</td>\n",
       "      <td>None</td>\n",
       "      <td>None</td>\n",
       "      <td>None</td>\n",
       "    </tr>\n",
       "  </tbody>\n",
       "</table>\n",
       "</div>"
      ],
      "text/plain": [
       "       0         1    2     3     4     5\n",
       "0    309       ang   mo   kio   ave     1\n",
       "9    247       ang   mo   kio   ave     3\n",
       "11   252       ang   mo   kio   ave     4\n",
       "48   455       ang   mo   kio   ave    10\n",
       "262    4  hillview  ave  None  None  None"
      ]
     },
     "execution_count": 79,
     "metadata": {},
     "output_type": "execute_result"
    }
   ],
   "source": [
    "# we need to convert the shortform ave to avenue as GeoPY is not as versatle as OneMAP\n",
    "df_balance_null_split= df_balance_null[\"address\"].str.split(expand=True)\n",
    "df_balance_null_split.head()"
   ]
  },
  {
   "cell_type": "code",
   "execution_count": 80,
   "metadata": {},
   "outputs": [
    {
     "data": {
      "text/html": [
       "<div>\n",
       "<style scoped>\n",
       "    .dataframe tbody tr th:only-of-type {\n",
       "        vertical-align: middle;\n",
       "    }\n",
       "\n",
       "    .dataframe tbody tr th {\n",
       "        vertical-align: top;\n",
       "    }\n",
       "\n",
       "    .dataframe thead th {\n",
       "        text-align: right;\n",
       "    }\n",
       "</style>\n",
       "<table border=\"1\" class=\"dataframe\">\n",
       "  <thead>\n",
       "    <tr style=\"text-align: right;\">\n",
       "      <th></th>\n",
       "      <th>before</th>\n",
       "      <th>after</th>\n",
       "    </tr>\n",
       "  </thead>\n",
       "  <tbody>\n",
       "    <tr>\n",
       "      <th>0</th>\n",
       "      <td>a’space</td>\n",
       "      <td>aerospace</td>\n",
       "    </tr>\n",
       "    <tr>\n",
       "      <th>1</th>\n",
       "      <td>ably</td>\n",
       "      <td>assembly</td>\n",
       "    </tr>\n",
       "    <tr>\n",
       "      <th>2</th>\n",
       "      <td>ac</td>\n",
       "      <td>academy</td>\n",
       "    </tr>\n",
       "    <tr>\n",
       "      <th>3</th>\n",
       "      <td>acad</td>\n",
       "      <td>academy</td>\n",
       "    </tr>\n",
       "    <tr>\n",
       "      <th>4</th>\n",
       "      <td>adm</td>\n",
       "      <td>administration</td>\n",
       "    </tr>\n",
       "  </tbody>\n",
       "</table>\n",
       "</div>"
      ],
      "text/plain": [
       "    before           after\n",
       "0  a’space       aerospace\n",
       "1     ably        assembly\n",
       "2       ac         academy\n",
       "3     acad         academy\n",
       "4      adm  administration"
      ]
     },
     "execution_count": 80,
     "metadata": {},
     "output_type": "execute_result"
    }
   ],
   "source": [
    "# the conversion that we will be doing\n",
    "compare = pd.read_csv(\"conversion.csv\")\n",
    "compare['before']= compare['before'].str.lower()\n",
    "compare['after']= compare['after'].str.lower()\n",
    "compare.head()"
   ]
  },
  {
   "cell_type": "code",
   "execution_count": 81,
   "metadata": {},
   "outputs": [],
   "source": [
    "rename_dict = compare.set_index('before').to_dict()['after']"
   ]
  },
  {
   "cell_type": "code",
   "execution_count": 82,
   "metadata": {},
   "outputs": [],
   "source": [
    "# replace before and after ( short form to original )\n",
    "df_balance_null_split =df_balance_null_split.replace(rename_dict)"
   ]
  },
  {
   "cell_type": "code",
   "execution_count": 83,
   "metadata": {},
   "outputs": [
    {
     "data": {
      "text/plain": [
       "0       247\n",
       "1       ang\n",
       "2        mo\n",
       "3       kio\n",
       "4    avenue\n",
       "5         3\n",
       "Name: 9, dtype: object"
      ]
     },
     "execution_count": 83,
     "metadata": {},
     "output_type": "execute_result"
    }
   ],
   "source": [
    "df_balance_null_split.iloc[1,:]"
   ]
  },
  {
   "cell_type": "code",
   "execution_count": 84,
   "metadata": {},
   "outputs": [
    {
     "data": {
      "text/plain": [
       "0        309 ang mo kio avenue 1 singapore\n",
       "9        247 ang mo kio avenue 3 singapore\n",
       "11       252 ang mo kio avenue 4 singapore\n",
       "48      455 ang mo kio avenue 10 singapore\n",
       "262            4 hillview avenue singapore\n",
       "                       ...                \n",
       "3606    7 seletar west farmway 6 singapore\n",
       "3739      12 saint george's road singapore\n",
       "4922       19 kampong bahru hill singapore\n",
       "5299    6 seletar west farmway 6 singapore\n",
       "6157      4b saint george's lane singapore\n",
       "Length: 134, dtype: object"
      ]
     },
     "execution_count": 84,
     "metadata": {},
     "output_type": "execute_result"
    }
   ],
   "source": [
    "# we include singapore as the suffix just in case GeoPY is not versatile\n",
    "# there are instances whereby there are similar location around the world\n",
    "df_balance_null_split.apply(lambda x: x.str.cat(sep=' ') + ' singapore', axis=1)"
   ]
  },
  {
   "cell_type": "code",
   "execution_count": 85,
   "metadata": {},
   "outputs": [
    {
     "name": "stderr",
     "output_type": "stream",
     "text": [
      "C:\\Users\\andre\\AppData\\Local\\Continuum\\anaconda3\\envs\\streamprophet37\\lib\\site-packages\\pandas\\core\\indexing.py:1048: SettingWithCopyWarning: \n",
      "A value is trying to be set on a copy of a slice from a DataFrame.\n",
      "Try using .loc[row_indexer,col_indexer] = value instead\n",
      "\n",
      "See the caveats in the documentation: https://pandas.pydata.org/pandas-docs/stable/user_guide/indexing.html#returning-a-view-versus-a-copy\n",
      "  self.obj[item_labels[indexer[info_axis]]] = value\n"
     ]
    }
   ],
   "source": [
    "df_balance_null.loc[:,'address'] = df_balance_null_split.apply(lambda x: x.str.cat(sep=' ') + str(' singapore'), axis=1)"
   ]
  },
  {
   "cell_type": "code",
   "execution_count": 227,
   "metadata": {},
   "outputs": [],
   "source": [
    "#add_list = list(df_balance_null.address)\n",
    "\n",
    "def get_GPS_geoPY(df,col):\n",
    "    '''\n",
    "    This function will obtain the latitude and longitude using GeoPY\n",
    "    \n",
    "    Keyword arguments:\n",
    "    df : df name\n",
    "    col : name of the column to retrieve\n",
    "    '''\n",
    "    \n",
    "    latitude_list = []\n",
    "    longitude_list = []\n",
    "    for i in list(df[col]) :\n",
    "        geolocator = Nominatim(user_agent=\"myGeocoder\")\n",
    "        # convenient function to delay between geocoding calls\n",
    "        # delay to prevent drop outs\n",
    "        try:\n",
    "            location = geolocator.geocode(i,timeout=3)\n",
    "            latitude_list.append(location.latitude)\n",
    "            longitude_list.append(location.longitude)\n",
    "        except:\n",
    "            latitude_list.append(None)\n",
    "            longitude_list.append(None)\n",
    "    df.loc[:,\"latitude\"] = latitude_list\n",
    "    df.loc[:,\"longitude\"] = longitude_list\n",
    "    return df\n",
    "    \n",
    "    #add_df1.to_csv(\"add_df1.csv\")"
   ]
  },
  {
   "cell_type": "code",
   "execution_count": 90,
   "metadata": {},
   "outputs": [
    {
     "name": "stderr",
     "output_type": "stream",
     "text": [
      "C:\\Users\\andre\\AppData\\Local\\Continuum\\anaconda3\\envs\\streamprophet37\\lib\\site-packages\\ipykernel_launcher.py:17: SettingWithCopyWarning: \n",
      "A value is trying to be set on a copy of a slice from a DataFrame.\n",
      "Try using .loc[row_indexer,col_indexer] = value instead\n",
      "\n",
      "See the caveats in the documentation: https://pandas.pydata.org/pandas-docs/stable/user_guide/indexing.html#returning-a-view-versus-a-copy\n",
      "C:\\Users\\andre\\AppData\\Local\\Continuum\\anaconda3\\envs\\streamprophet37\\lib\\site-packages\\ipykernel_launcher.py:18: SettingWithCopyWarning: \n",
      "A value is trying to be set on a copy of a slice from a DataFrame.\n",
      "Try using .loc[row_indexer,col_indexer] = value instead\n",
      "\n",
      "See the caveats in the documentation: https://pandas.pydata.org/pandas-docs/stable/user_guide/indexing.html#returning-a-view-versus-a-copy\n"
     ]
    }
   ],
   "source": [
    "df_balance_null = get_GPS_geoPY(df_balance_null,'address')"
   ]
  },
  {
   "cell_type": "code",
   "execution_count": 91,
   "metadata": {},
   "outputs": [
    {
     "data": {
      "text/plain": [
       "address       0\n",
       "latitude     14\n",
       "longitude    14\n",
       "dtype: int64"
      ]
     },
     "execution_count": 91,
     "metadata": {},
     "output_type": "execute_result"
    }
   ],
   "source": [
    "# we will manually input the values since they are only 14 values \n",
    "# with respect to initital of 9143\n",
    "df_balance_null.isnull().sum()"
   ]
  },
  {
   "cell_type": "code",
   "execution_count": 122,
   "metadata": {},
   "outputs": [
    {
     "data": {
      "text/html": [
       "<div>\n",
       "<style scoped>\n",
       "    .dataframe tbody tr th:only-of-type {\n",
       "        vertical-align: middle;\n",
       "    }\n",
       "\n",
       "    .dataframe tbody tr th {\n",
       "        vertical-align: top;\n",
       "    }\n",
       "\n",
       "    .dataframe thead th {\n",
       "        text-align: right;\n",
       "    }\n",
       "</style>\n",
       "<table border=\"1\" class=\"dataframe\">\n",
       "  <thead>\n",
       "    <tr style=\"text-align: right;\">\n",
       "      <th></th>\n",
       "      <th>address</th>\n",
       "      <th>latitude</th>\n",
       "      <th>longitude</th>\n",
       "    </tr>\n",
       "  </thead>\n",
       "  <tbody>\n",
       "    <tr>\n",
       "      <th>302</th>\n",
       "      <td>33 taman ho swee singapore</td>\n",
       "      <td>NaN</td>\n",
       "      <td>NaN</td>\n",
       "    </tr>\n",
       "    <tr>\n",
       "      <th>340</th>\n",
       "      <td>18 kampong bahru hill singapore</td>\n",
       "      <td>NaN</td>\n",
       "      <td>NaN</td>\n",
       "    </tr>\n",
       "    <tr>\n",
       "      <th>486</th>\n",
       "      <td>1 jalan pasar baru singapore</td>\n",
       "      <td>NaN</td>\n",
       "      <td>NaN</td>\n",
       "    </tr>\n",
       "    <tr>\n",
       "      <th>1220</th>\n",
       "      <td>31 taman ho swee singapore</td>\n",
       "      <td>NaN</td>\n",
       "      <td>NaN</td>\n",
       "    </tr>\n",
       "    <tr>\n",
       "      <th>1330</th>\n",
       "      <td>5 yung ping road singapore</td>\n",
       "      <td>NaN</td>\n",
       "      <td>NaN</td>\n",
       "    </tr>\n",
       "    <tr>\n",
       "      <th>1331</th>\n",
       "      <td>6 yung ping road singapore</td>\n",
       "      <td>NaN</td>\n",
       "      <td>NaN</td>\n",
       "    </tr>\n",
       "    <tr>\n",
       "      <th>1598</th>\n",
       "      <td>22 kampong bahru hill singapore</td>\n",
       "      <td>NaN</td>\n",
       "      <td>NaN</td>\n",
       "    </tr>\n",
       "    <tr>\n",
       "      <th>1925</th>\n",
       "      <td>51 nile road singapore</td>\n",
       "      <td>NaN</td>\n",
       "      <td>NaN</td>\n",
       "    </tr>\n",
       "    <tr>\n",
       "      <th>1926</th>\n",
       "      <td>54 nile road singapore</td>\n",
       "      <td>NaN</td>\n",
       "      <td>NaN</td>\n",
       "    </tr>\n",
       "    <tr>\n",
       "      <th>1927</th>\n",
       "      <td>24 jalan membina barat singapore</td>\n",
       "      <td>NaN</td>\n",
       "      <td>NaN</td>\n",
       "    </tr>\n",
       "    <tr>\n",
       "      <th>2034</th>\n",
       "      <td>5 buangkok south farmway 1 singapore</td>\n",
       "      <td>NaN</td>\n",
       "      <td>NaN</td>\n",
       "    </tr>\n",
       "    <tr>\n",
       "      <th>2673</th>\n",
       "      <td>23 kampong bahru hill singapore</td>\n",
       "      <td>NaN</td>\n",
       "      <td>NaN</td>\n",
       "    </tr>\n",
       "    <tr>\n",
       "      <th>3145</th>\n",
       "      <td>24 kampong bahru hill singapore</td>\n",
       "      <td>NaN</td>\n",
       "      <td>NaN</td>\n",
       "    </tr>\n",
       "    <tr>\n",
       "      <th>4922</th>\n",
       "      <td>19 kampong bahru hill singapore</td>\n",
       "      <td>NaN</td>\n",
       "      <td>NaN</td>\n",
       "    </tr>\n",
       "  </tbody>\n",
       "</table>\n",
       "</div>"
      ],
      "text/plain": [
       "                                   address  latitude  longitude\n",
       "302             33 taman ho swee singapore       NaN        NaN\n",
       "340        18 kampong bahru hill singapore       NaN        NaN\n",
       "486           1 jalan pasar baru singapore       NaN        NaN\n",
       "1220            31 taman ho swee singapore       NaN        NaN\n",
       "1330            5 yung ping road singapore       NaN        NaN\n",
       "1331            6 yung ping road singapore       NaN        NaN\n",
       "1598       22 kampong bahru hill singapore       NaN        NaN\n",
       "1925                51 nile road singapore       NaN        NaN\n",
       "1926                54 nile road singapore       NaN        NaN\n",
       "1927      24 jalan membina barat singapore       NaN        NaN\n",
       "2034  5 buangkok south farmway 1 singapore       NaN        NaN\n",
       "2673       23 kampong bahru hill singapore       NaN        NaN\n",
       "3145       24 kampong bahru hill singapore       NaN        NaN\n",
       "4922       19 kampong bahru hill singapore       NaN        NaN"
      ]
     },
     "execution_count": 122,
     "metadata": {},
     "output_type": "execute_result"
    }
   ],
   "source": [
    "df_balance_null[df_balance_null['latitude'].isnull()]"
   ]
  },
  {
   "cell_type": "code",
   "execution_count": null,
   "metadata": {},
   "outputs": [],
   "source": [
    "# write to CSV , manually fill in and re-load"
   ]
  },
  {
   "cell_type": "code",
   "execution_count": 124,
   "metadata": {},
   "outputs": [],
   "source": [
    "df_balance_null.to_csv('data/df_balance_null.csv',index=False)"
   ]
  },
  {
   "cell_type": "code",
   "execution_count": 144,
   "metadata": {},
   "outputs": [],
   "source": [
    "df_balance_completed = pd.read_csv('data/df_balance_null.csv')"
   ]
  },
  {
   "cell_type": "markdown",
   "metadata": {},
   "source": [
    "## Merge back to df_unique "
   ]
  },
  {
   "cell_type": "code",
   "execution_count": 158,
   "metadata": {},
   "outputs": [
    {
     "data": {
      "text/plain": [
       "(9143, 3)"
      ]
     },
     "execution_count": 158,
     "metadata": {},
     "output_type": "execute_result"
    }
   ],
   "source": [
    "df_unique_address.shape"
   ]
  },
  {
   "cell_type": "code",
   "execution_count": 159,
   "metadata": {},
   "outputs": [
    {
     "data": {
      "text/plain": [
       "(9009, 3)"
      ]
     },
     "execution_count": 159,
     "metadata": {},
     "output_type": "execute_result"
    }
   ],
   "source": [
    "df_unique_address.loc[~df_unique_address['latitude'].isnull(),:].shape"
   ]
  },
  {
   "cell_type": "code",
   "execution_count": 157,
   "metadata": {},
   "outputs": [
    {
     "data": {
      "text/plain": [
       "(134, 3)"
      ]
     },
     "execution_count": 157,
     "metadata": {},
     "output_type": "execute_result"
    }
   ],
   "source": [
    "df_unique_address.loc[df_unique_address['latitude'].isnull(),:].shape"
   ]
  },
  {
   "cell_type": "code",
   "execution_count": 160,
   "metadata": {},
   "outputs": [
    {
     "data": {
      "text/plain": [
       "(134, 3)"
      ]
     },
     "execution_count": 160,
     "metadata": {},
     "output_type": "execute_result"
    }
   ],
   "source": [
    "df_balance_completed.shape"
   ]
  },
  {
   "cell_type": "code",
   "execution_count": 183,
   "metadata": {},
   "outputs": [],
   "source": [
    "df_unique_null =df_unique_address.loc[df_unique_address['latitude'].isnull(),:].reset_index(drop=True)\n",
    "df_balance_completed.reset_index(drop=True)"
   ]
  },
  {
   "cell_type": "code",
   "execution_count": 186,
   "metadata": {},
   "outputs": [],
   "source": [
    "#merge the df_balance_completed 134 values to the original 9143 df_unique\n",
    "df_unique_null.loc[:,'latitude']=df_balance_completed['latitude']\n",
    "df_unique_null.loc[:,'longitude']=df_balance_completed['longitude']"
   ]
  },
  {
   "cell_type": "code",
   "execution_count": 188,
   "metadata": {},
   "outputs": [
    {
     "data": {
      "text/plain": [
       "address      0\n",
       "latitude     0\n",
       "longitude    0\n",
       "dtype: int64"
      ]
     },
     "execution_count": 188,
     "metadata": {},
     "output_type": "execute_result"
    }
   ],
   "source": [
    "df_unique_null.isnull().sum()"
   ]
  },
  {
   "cell_type": "code",
   "execution_count": 228,
   "metadata": {},
   "outputs": [],
   "source": [
    "#subset to 9009 rows \n",
    "df_unique = df_unique_address.loc[~df_unique_address['latitude'].isnull(),:].reset_index(drop=True)"
   ]
  },
  {
   "cell_type": "code",
   "execution_count": 229,
   "metadata": {},
   "outputs": [
    {
     "data": {
      "text/html": [
       "<div>\n",
       "<style scoped>\n",
       "    .dataframe tbody tr th:only-of-type {\n",
       "        vertical-align: middle;\n",
       "    }\n",
       "\n",
       "    .dataframe tbody tr th {\n",
       "        vertical-align: top;\n",
       "    }\n",
       "\n",
       "    .dataframe thead th {\n",
       "        text-align: right;\n",
       "    }\n",
       "</style>\n",
       "<table border=\"1\" class=\"dataframe\">\n",
       "  <thead>\n",
       "    <tr style=\"text-align: right;\">\n",
       "      <th></th>\n",
       "      <th>address</th>\n",
       "      <th>latitude</th>\n",
       "      <th>longitude</th>\n",
       "    </tr>\n",
       "  </thead>\n",
       "  <tbody>\n",
       "    <tr>\n",
       "      <th>0</th>\n",
       "      <td>216 ang mo kio ave 1</td>\n",
       "      <td>1.366196788</td>\n",
       "      <td>103.841505</td>\n",
       "    </tr>\n",
       "    <tr>\n",
       "      <th>1</th>\n",
       "      <td>211 ang mo kio ave 3</td>\n",
       "      <td>1.3691969659999998</td>\n",
       "      <td>103.8416666</td>\n",
       "    </tr>\n",
       "    <tr>\n",
       "      <th>2</th>\n",
       "      <td>202 ang mo kio ave 3</td>\n",
       "      <td>1.36844644</td>\n",
       "      <td>103.8445163</td>\n",
       "    </tr>\n",
       "    <tr>\n",
       "      <th>3</th>\n",
       "      <td>235 ang mo kio ave 3</td>\n",
       "      <td>1.366823609</td>\n",
       "      <td>103.8364912</td>\n",
       "    </tr>\n",
       "    <tr>\n",
       "      <th>4</th>\n",
       "      <td>232 ang mo kio ave 3</td>\n",
       "      <td>1.3683460680000001</td>\n",
       "      <td>103.83719599999999</td>\n",
       "    </tr>\n",
       "  </tbody>\n",
       "</table>\n",
       "</div>"
      ],
      "text/plain": [
       "                address            latitude           longitude\n",
       "0  216 ang mo kio ave 1         1.366196788          103.841505\n",
       "1  211 ang mo kio ave 3  1.3691969659999998         103.8416666\n",
       "2  202 ang mo kio ave 3          1.36844644         103.8445163\n",
       "3  235 ang mo kio ave 3         1.366823609         103.8364912\n",
       "4  232 ang mo kio ave 3  1.3683460680000001  103.83719599999999"
      ]
     },
     "execution_count": 229,
     "metadata": {},
     "output_type": "execute_result"
    }
   ],
   "source": [
    "#combine df_unique(9009 rows) and df_unique (134 rows)\n",
    "frames = [df_unique, df_unique_null]\n",
    "df_unique = pd.concat(frames).reset_index(drop=True)\n",
    "df_unique.head()"
   ]
  },
  {
   "cell_type": "code",
   "execution_count": 230,
   "metadata": {},
   "outputs": [
    {
     "data": {
      "text/html": [
       "<div>\n",
       "<style scoped>\n",
       "    .dataframe tbody tr th:only-of-type {\n",
       "        vertical-align: middle;\n",
       "    }\n",
       "\n",
       "    .dataframe tbody tr th {\n",
       "        vertical-align: top;\n",
       "    }\n",
       "\n",
       "    .dataframe thead th {\n",
       "        text-align: right;\n",
       "    }\n",
       "</style>\n",
       "<table border=\"1\" class=\"dataframe\">\n",
       "  <thead>\n",
       "    <tr style=\"text-align: right;\">\n",
       "      <th></th>\n",
       "      <th>month</th>\n",
       "      <th>town</th>\n",
       "      <th>flat_type</th>\n",
       "      <th>block</th>\n",
       "      <th>street_name</th>\n",
       "      <th>storey_range</th>\n",
       "      <th>floor_area_sqm</th>\n",
       "      <th>flat_model</th>\n",
       "      <th>lease_commence_date</th>\n",
       "      <th>resale_price</th>\n",
       "      <th>date</th>\n",
       "      <th>year_sold</th>\n",
       "      <th>month_sold</th>\n",
       "      <th>remaining_lease</th>\n",
       "      <th>address</th>\n",
       "      <th>latitude</th>\n",
       "      <th>longitude</th>\n",
       "    </tr>\n",
       "  </thead>\n",
       "  <tbody>\n",
       "    <tr>\n",
       "      <th>0</th>\n",
       "      <td>1990-01</td>\n",
       "      <td>ANG MO KIO</td>\n",
       "      <td>1 ROOM</td>\n",
       "      <td>309</td>\n",
       "      <td>ANG MO KIO AVE 1</td>\n",
       "      <td>10 TO 12</td>\n",
       "      <td>31.0</td>\n",
       "      <td>improved</td>\n",
       "      <td>1977</td>\n",
       "      <td>9000.0</td>\n",
       "      <td>1990-01-01</td>\n",
       "      <td>1990</td>\n",
       "      <td>1</td>\n",
       "      <td>86</td>\n",
       "      <td>309 ang mo kio ave 1</td>\n",
       "      <td>1.36605</td>\n",
       "      <td>103.837</td>\n",
       "    </tr>\n",
       "    <tr>\n",
       "      <th>1</th>\n",
       "      <td>1990-01</td>\n",
       "      <td>ANG MO KIO</td>\n",
       "      <td>1 ROOM</td>\n",
       "      <td>309</td>\n",
       "      <td>ANG MO KIO AVE 1</td>\n",
       "      <td>04 TO 06</td>\n",
       "      <td>31.0</td>\n",
       "      <td>improved</td>\n",
       "      <td>1977</td>\n",
       "      <td>6000.0</td>\n",
       "      <td>1990-01-01</td>\n",
       "      <td>1990</td>\n",
       "      <td>1</td>\n",
       "      <td>86</td>\n",
       "      <td>309 ang mo kio ave 1</td>\n",
       "      <td>1.36605</td>\n",
       "      <td>103.837</td>\n",
       "    </tr>\n",
       "    <tr>\n",
       "      <th>2</th>\n",
       "      <td>1990-01</td>\n",
       "      <td>ANG MO KIO</td>\n",
       "      <td>1 ROOM</td>\n",
       "      <td>309</td>\n",
       "      <td>ANG MO KIO AVE 1</td>\n",
       "      <td>10 TO 12</td>\n",
       "      <td>31.0</td>\n",
       "      <td>improved</td>\n",
       "      <td>1977</td>\n",
       "      <td>8000.0</td>\n",
       "      <td>1990-01-01</td>\n",
       "      <td>1990</td>\n",
       "      <td>1</td>\n",
       "      <td>86</td>\n",
       "      <td>309 ang mo kio ave 1</td>\n",
       "      <td>1.36605</td>\n",
       "      <td>103.837</td>\n",
       "    </tr>\n",
       "    <tr>\n",
       "      <th>3</th>\n",
       "      <td>1990-01</td>\n",
       "      <td>ANG MO KIO</td>\n",
       "      <td>1 ROOM</td>\n",
       "      <td>309</td>\n",
       "      <td>ANG MO KIO AVE 1</td>\n",
       "      <td>07 TO 09</td>\n",
       "      <td>31.0</td>\n",
       "      <td>improved</td>\n",
       "      <td>1977</td>\n",
       "      <td>6000.0</td>\n",
       "      <td>1990-01-01</td>\n",
       "      <td>1990</td>\n",
       "      <td>1</td>\n",
       "      <td>86</td>\n",
       "      <td>309 ang mo kio ave 1</td>\n",
       "      <td>1.36605</td>\n",
       "      <td>103.837</td>\n",
       "    </tr>\n",
       "    <tr>\n",
       "      <th>4</th>\n",
       "      <td>1990-02</td>\n",
       "      <td>ANG MO KIO</td>\n",
       "      <td>1 ROOM</td>\n",
       "      <td>309</td>\n",
       "      <td>ANG MO KIO AVE 1</td>\n",
       "      <td>04 TO 06</td>\n",
       "      <td>31.0</td>\n",
       "      <td>improved</td>\n",
       "      <td>1977</td>\n",
       "      <td>8000.0</td>\n",
       "      <td>1990-02-01</td>\n",
       "      <td>1990</td>\n",
       "      <td>2</td>\n",
       "      <td>86</td>\n",
       "      <td>309 ang mo kio ave 1</td>\n",
       "      <td>1.36605</td>\n",
       "      <td>103.837</td>\n",
       "    </tr>\n",
       "  </tbody>\n",
       "</table>\n",
       "</div>"
      ],
      "text/plain": [
       "     month        town flat_type block       street_name storey_range  \\\n",
       "0  1990-01  ANG MO KIO    1 ROOM   309  ANG MO KIO AVE 1     10 TO 12   \n",
       "1  1990-01  ANG MO KIO    1 ROOM   309  ANG MO KIO AVE 1     04 TO 06   \n",
       "2  1990-01  ANG MO KIO    1 ROOM   309  ANG MO KIO AVE 1     10 TO 12   \n",
       "3  1990-01  ANG MO KIO    1 ROOM   309  ANG MO KIO AVE 1     07 TO 09   \n",
       "4  1990-02  ANG MO KIO    1 ROOM   309  ANG MO KIO AVE 1     04 TO 06   \n",
       "\n",
       "   floor_area_sqm flat_model  lease_commence_date  resale_price       date  \\\n",
       "0            31.0   improved                 1977        9000.0 1990-01-01   \n",
       "1            31.0   improved                 1977        6000.0 1990-01-01   \n",
       "2            31.0   improved                 1977        8000.0 1990-01-01   \n",
       "3            31.0   improved                 1977        6000.0 1990-01-01   \n",
       "4            31.0   improved                 1977        8000.0 1990-02-01   \n",
       "\n",
       "   year_sold  month_sold  remaining_lease               address latitude  \\\n",
       "0       1990           1               86  309 ang mo kio ave 1  1.36605   \n",
       "1       1990           1               86  309 ang mo kio ave 1  1.36605   \n",
       "2       1990           1               86  309 ang mo kio ave 1  1.36605   \n",
       "3       1990           1               86  309 ang mo kio ave 1  1.36605   \n",
       "4       1990           2               86  309 ang mo kio ave 1  1.36605   \n",
       "\n",
       "  longitude  \n",
       "0   103.837  \n",
       "1   103.837  \n",
       "2   103.837  \n",
       "3   103.837  \n",
       "4   103.837  "
      ]
     },
     "execution_count": 230,
     "metadata": {},
     "output_type": "execute_result"
    }
   ],
   "source": [
    "df.head()"
   ]
  },
  {
   "cell_type": "code",
   "execution_count": 222,
   "metadata": {},
   "outputs": [],
   "source": [
    "df=df.merge(df_unique,on='address')"
   ]
  },
  {
   "cell_type": "code",
   "execution_count": 223,
   "metadata": {},
   "outputs": [
    {
     "data": {
      "text/plain": [
       "month                  0\n",
       "town                   0\n",
       "flat_type              0\n",
       "block                  0\n",
       "street_name            0\n",
       "storey_range           0\n",
       "floor_area_sqm         0\n",
       "flat_model             0\n",
       "lease_commence_date    0\n",
       "resale_price           0\n",
       "date                   0\n",
       "year_sold              0\n",
       "month_sold             0\n",
       "remaining_lease        0\n",
       "address                0\n",
       "latitude               0\n",
       "longitude              0\n",
       "dtype: int64"
      ]
     },
     "execution_count": 223,
     "metadata": {},
     "output_type": "execute_result"
    }
   ],
   "source": [
    "df.isnull().sum()"
   ]
  },
  {
   "cell_type": "code",
   "execution_count": 224,
   "metadata": {},
   "outputs": [],
   "source": [
    "# Write to CSV for GPS completed\n",
    "df.to_csv('data/df_gps.csv',index=False)"
   ]
  }
 ],
 "metadata": {
  "kernelspec": {
   "display_name": "Python 3",
   "language": "python",
   "name": "python3"
  },
  "language_info": {
   "codemirror_mode": {
    "name": "ipython",
    "version": 3
   },
   "file_extension": ".py",
   "mimetype": "text/x-python",
   "name": "python",
   "nbconvert_exporter": "python",
   "pygments_lexer": "ipython3",
   "version": "3.7.7"
  }
 },
 "nbformat": 4,
 "nbformat_minor": 4
}
